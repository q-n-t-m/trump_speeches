{
 "cells": [
  {
   "cell_type": "markdown",
   "metadata": {},
   "source": [
    "# A quick analysis of Donald Trump's (the candidate) Speeches"
   ]
  },
  {
   "cell_type": "code",
   "execution_count": 12,
   "metadata": {},
   "outputs": [],
   "source": [
    "# A little bit of proof of his narcissism in that the words \"I\" and \"me\" are used a lot!\n",
    "# I'm also totally biased and this isn't exactly scientific!\n",
    "# To his credit, for a moron, his lexical diversity isn't half bad.\n",
    "\n",
    "# to run this file, make sure that the .txt file and Jupyter file are in the same directory!"
   ]
  },
  {
   "cell_type": "code",
   "execution_count": 13,
   "metadata": {},
   "outputs": [],
   "source": [
    "import nltk"
   ]
  },
  {
   "cell_type": "code",
   "execution_count": 14,
   "metadata": {},
   "outputs": [
    {
     "name": "stdout",
     "output_type": "stream",
     "text": [
      "/Users/qntm/Documents/Education/data_science/data_sets/speeches/trump\n"
     ]
    }
   ],
   "source": [
    "cd /Users/qntm/Documents/Education/data_science/data_sets/speeches/trump"
   ]
  },
  {
   "cell_type": "code",
   "execution_count": 15,
   "metadata": {},
   "outputs": [
    {
     "name": "stdout",
     "output_type": "stream",
     "text": [
      "speeches.txt               trump_speech_analysis.pdf\r\n"
     ]
    }
   ],
   "source": [
    "ls"
   ]
  },
  {
   "cell_type": "code",
   "execution_count": 16,
   "metadata": {},
   "outputs": [],
   "source": [
    "f=open('speeches.txt')\n",
    "raw=f.read()\n",
    "tokens = nltk.word_tokenize(raw)\n",
    "text = nltk.Text(tokens)"
   ]
  },
  {
   "cell_type": "code",
   "execution_count": 22,
   "metadata": {},
   "outputs": [
    {
     "data": {
      "image/png": "[encoded data removed]",
      "text/plain": [
       "<matplotlib.figure.Figure at 0x1110437b8>"
      ]
     },
     "metadata": {},
     "output_type": "display_data"
    }
   ],
   "source": [
    "text.dispersion_plot([\"citizens\", \"democracy\", \"ISIS\",\"Russia\",\"Clinton\",\"industry\",\n",
    "                      \"Islam\", \"Muslims\", \"China\", \"freedom\", \"email\", \"guns\", \"America\", \n",
    "                      \"great\", \"me\", \"win\", \"give\", \"I\", \"war\", \"immigration\", \"border\", \"security\"])"
   ]
  },
  {
   "cell_type": "code",
   "execution_count": 6,
   "metadata": {},
   "outputs": [
    {
     "name": "stdout",
     "output_type": "stream",
     "text": [
      "213827 total words used\n"
     ]
    }
   ],
   "source": [
    "total_words = len(text)\n",
    "print(total_words, \"total words used\")"
   ]
  },
  {
   "cell_type": "code",
   "execution_count": 7,
   "metadata": {},
   "outputs": [
    {
     "name": "stdout",
     "output_type": "stream",
     "text": [
      "7803 unique words\n"
     ]
    }
   ],
   "source": [
    "unique_words = len(set(text))\n",
    "print(unique_words, \"unique words\")"
   ]
  },
  {
   "cell_type": "code",
   "execution_count": 8,
   "metadata": {
    "collapsed": true
   },
   "outputs": [],
   "source": [
    "def lexical_diversity(text_in):\n",
    "    total_words = len(text_in)\n",
    "    total_unique = len(set(text_in))\n",
    "    lex_div = (total_unique / total_words) * 100\n",
    "    return lex_div"
   ]
  },
  {
   "cell_type": "code",
   "execution_count": 9,
   "metadata": {},
   "outputs": [
    {
     "name": "stdout",
     "output_type": "stream",
     "text": [
      "3.65 % diversity\n"
     ]
    }
   ],
   "source": [
    "lex_d = lexical_diversity(text)\n",
    "print(\"{:.2f}\".format(lex_d),'% diversity')"
   ]
  }
 ],
 "metadata": {
  "kernelspec": {
   "display_name": "Python 3",
   "language": "python",
   "name": "python3"
  },
  "language_info": {
   "codemirror_mode": {
    "name": "ipython",
    "version": 3
   },
   "file_extension": ".py",
   "mimetype": "text/x-python",
   "name": "python",
   "nbconvert_exporter": "python",
   "pygments_lexer": "ipython3",
   "version": "3.5.4"
  }
 },
 "nbformat": 4,
 "nbformat_minor": 2
}
